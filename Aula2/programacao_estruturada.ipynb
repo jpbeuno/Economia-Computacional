{
 "cells": [
  {
   "cell_type": "markdown",
   "id": "70b210c8-cf5c-4a82-a164-f3a3375bb9c8",
   "metadata": {
    "editable": true,
    "slideshow": {
     "slide_type": ""
    },
    "tags": []
   },
   "source": [
    "# Programação estruturada"
   ]
  },
  {
   "cell_type": "markdown",
   "id": "0ff7f4cb-d474-4574-bcf8-b810e1ab9e13",
   "metadata": {},
   "source": [
    "## Estrutura de Iteração"
   ]
  },
  {
   "cell_type": "code",
   "execution_count": 4,
   "id": "86fca7d4-0c41-4800-bcd5-2b0290d04a7b",
   "metadata": {},
   "outputs": [
    {
     "name": "stdout",
     "output_type": "stream",
     "text": [
      "casa\n",
      "1\n",
      "casa\n",
      "2\n",
      "casa\n",
      "3\n"
     ]
    }
   ],
   "source": [
    "\n",
    "# Estrutura de controle de fluxo de execução while (repetição)\n",
    "\n",
    "## Problema: imprima casa na tela 3 vezes\n",
    "i = 0 # contador\n",
    "\n",
    "while i < 3:\n",
    "    print(\"casa\")\n",
    "    i = i + 1\n",
    "    print(i)"
   ]
  },
  {
   "cell_type": "markdown",
   "id": "363f39e8-a74c-48b0-969b-118ab6c077c1",
   "metadata": {},
   "source": [
    "## Estrutura de Seleção Simples"
   ]
  },
  {
   "cell_type": "code",
   "execution_count": 6,
   "id": "91482d40-dfd3-407f-afb3-aa442df220a7",
   "metadata": {
    "editable": true,
    "slideshow": {
     "slide_type": ""
    },
    "tags": []
   },
   "outputs": [
    {
     "data": {
      "text/plain": [
       "'Programa testa_adulto.py\\nDescrição:\\nFaça um programa que pergunte a idade de uma pessoa. Se a idade\\nfor maior do que 18 anos, o programa imprime na tela o texto\\n\"Oi, você é um adulto\".\\nAutor: João Pedro Bueno\\nData: 02/04/2025\\nVersão: 0.0.1\\n'"
      ]
     },
     "execution_count": 6,
     "metadata": {},
     "output_type": "execute_result"
    }
   ],
   "source": [
    "\"\"\"Programa testa_adulto.py\n",
    "Descrição:\n",
    "Faça um programa que pergunte a idade de uma pessoa. Se a idade\n",
    "for maior do que 18 anos, o programa imprime na tela o texto\n",
    "\"Oi, você é um adulto\".\n",
    "Autor: João Pedro Bueno\n",
    "Data: 02/04/2025\n",
    "Versão: 0.0.1\n",
    "\"\"\""
   ]
  },
  {
   "cell_type": "code",
   "execution_count": 7,
   "id": "8ded33fd-b120-4065-bf9f-14ebcd2a8b35",
   "metadata": {
    "editable": true,
    "slideshow": {
     "slide_type": ""
    },
    "tags": []
   },
   "outputs": [],
   "source": [
    "# Alocação de memória\n",
    "\n",
    "idade = 0\n",
    "\n",
    "texto = \"Oi, você é um adulto!\""
   ]
  },
  {
   "cell_type": "code",
   "execution_count": 8,
   "id": "bbd8d3f8-76fe-4a29-9d56-4c176358c16d",
   "metadata": {
    "editable": true,
    "scrolled": true,
    "slideshow": {
     "slide_type": ""
    },
    "tags": []
   },
   "outputs": [
    {
     "name": "stdin",
     "output_type": "stream",
     "text": [
      "Qual a sua idade? 20\n"
     ]
    }
   ],
   "source": [
    "# Entrada de dados\n",
    "\n",
    "idade = int(input(\"Qual a sua idade?\")) \n",
    "# int server para ler apenas números inteiros"
   ]
  },
  {
   "cell_type": "code",
   "execution_count": 9,
   "id": "27ee5e04-95e0-4926-ac50-1f20911a9c70",
   "metadata": {
    "editable": true,
    "slideshow": {
     "slide_type": ""
    },
    "tags": []
   },
   "outputs": [
    {
     "name": "stdout",
     "output_type": "stream",
     "text": [
      "Oi, você é um adulto!\n"
     ]
    }
   ],
   "source": [
    "# Processamento de dados\n",
    "\n",
    "if idade >= 18:\n",
    "    print(texto)"
   ]
  },
  {
   "cell_type": "code",
   "execution_count": 10,
   "id": "933dc6cf-9437-4b33-ac15-2c2e1cb11050",
   "metadata": {},
   "outputs": [],
   "source": [
    "# Saída de dados"
   ]
  },
  {
   "cell_type": "markdown",
   "id": "57e038d2-90cc-4114-84ea-91d541574acb",
   "metadata": {},
   "source": [
    "## Estrutura de Seleção Composta if-else"
   ]
  },
  {
   "cell_type": "code",
   "execution_count": 12,
   "id": "15d793a9-2bf6-4072-bf91-0a4ff0b51a26",
   "metadata": {
    "editable": true,
    "slideshow": {
     "slide_type": ""
    },
    "tags": []
   },
   "outputs": [
    {
     "data": {
      "text/plain": [
       "'\\nPrograma testa_adulto2.py\\nDescrição: \\nFaça um programa que pergunte a idade de uma pessoa e, se esta\\nfor maior que ou igual a 18 anos, imprima na tela \"Oi! Você é\\num adulto.\". Caso contrário, imprima \"Oi! Você é menor de idade.\"\\n\\nAutor: João Pedro Bueno\\nData: 02/04/2025\\nVersão: 0.0.2\\n'"
      ]
     },
     "execution_count": 12,
     "metadata": {},
     "output_type": "execute_result"
    }
   ],
   "source": [
    "\"\"\"\n",
    "Programa testa_adulto2.py\n",
    "Descrição: \n",
    "Faça um programa que pergunte a idade de uma pessoa e, se esta\n",
    "for maior que ou igual a 18 anos, imprima na tela \"Oi! Você é\n",
    "um adulto.\". Caso contrário, imprima \"Oi! Você é menor de idade.\"\n",
    "\n",
    "Autor: João Pedro Bueno\n",
    "Data: 02/04/2025\n",
    "Versão: 0.0.2\n",
    "\"\"\""
   ]
  },
  {
   "cell_type": "code",
   "execution_count": 13,
   "id": "1a95e202-aa9f-45b8-b58c-cd21e538e85a",
   "metadata": {
    "editable": true,
    "slideshow": {
     "slide_type": ""
    },
    "tags": []
   },
   "outputs": [],
   "source": [
    "# Alocação de memória\n",
    "\n",
    "idade = 0\n",
    "\n",
    "frase = \"\""
   ]
  },
  {
   "cell_type": "code",
   "execution_count": 29,
   "id": "0d288a1f-9141-4516-a8e3-0fec96525881",
   "metadata": {
    "editable": true,
    "slideshow": {
     "slide_type": ""
    },
    "tags": []
   },
   "outputs": [
    {
     "name": "stdin",
     "output_type": "stream",
     "text": [
      "\n",
      "Qual a sua idade? 15\n"
     ]
    }
   ],
   "source": [
    "# Entrada de dados\n",
    "\n",
    "idade = int(input(\"\\nQual a sua idade?\"))"
   ]
  },
  {
   "cell_type": "code",
   "execution_count": 31,
   "id": "ea49bb6a-17b0-4d64-9b3e-aa80201b2abf",
   "metadata": {
    "editable": true,
    "slideshow": {
     "slide_type": ""
    },
    "tags": []
   },
   "outputs": [],
   "source": [
    "# Processamento de dados\n",
    "\n",
    "if idade >= 18:\n",
    "    frase = \"Oi! Você é um adulto\"\n",
    "else:\n",
    "    frase = \"Oi! Você é menor de idade\""
   ]
  },
  {
   "cell_type": "code",
   "execution_count": 45,
   "id": "b497c039-0bb5-4dd9-bf79-744fea270110",
   "metadata": {
    "editable": true,
    "slideshow": {
     "slide_type": ""
    },
    "tags": []
   },
   "outputs": [
    {
     "name": "stdout",
     "output_type": "stream",
     "text": [
      "Oi! Você é menor de idade\n"
     ]
    }
   ],
   "source": [
    "# Saída de dados\n",
    "\n",
    "print(frase)"
   ]
  },
  {
   "cell_type": "markdown",
   "id": "df939528-d5d9-49c2-a09a-d657418f547f",
   "metadata": {},
   "source": [
    "## Estrutura de Seleção Composta if-elif-else"
   ]
  },
  {
   "cell_type": "code",
   "execution_count": 66,
   "id": "ff8364b4-7d3c-4faf-a945-597fcb32624c",
   "metadata": {
    "editable": true,
    "slideshow": {
     "slide_type": ""
    },
    "tags": []
   },
   "outputs": [
    {
     "data": {
      "text/plain": [
       "'\\nPrograma testa_adulto3.py\\nDescrição:\\nFaça um programa que pergunte a idade de uma pessoa. Se a\\nidade for menor que 13 anos, imprima na tela \"Oi! Você é uma\\ncriança.\". Se idade for de 13 a 17, imprima \"Oi, Você é um\\nadolescente.\". Se a idade maior que 17 anos imprima \"Oi! Você\\né um adulto.\".\\n\\nAutor: João Pedro Bueno\\nData: 02/04/2025\\nVersão: 0.0.3\\n\\n'"
      ]
     },
     "execution_count": 66,
     "metadata": {},
     "output_type": "execute_result"
    }
   ],
   "source": [
    "\"\"\"\n",
    "Programa testa_adulto3.py\n",
    "Descrição:\n",
    "Faça um programa que pergunte a idade de uma pessoa. Se a\n",
    "idade for menor que 13 anos, imprima na tela \"Oi! Você é uma\n",
    "criança.\". Se idade for de 13 a 17, imprima \"Oi, Você é um\n",
    "adolescente.\". Se a idade maior que 17 anos imprima \"Oi! Você\n",
    "é um adulto.\".\n",
    "\n",
    "Autor: João Pedro Bueno\n",
    "Data: 02/04/2025\n",
    "Versão: 0.0.3\n",
    "\n",
    "\"\"\""
   ]
  },
  {
   "cell_type": "code",
   "execution_count": 62,
   "id": "e5d6707e-78d7-4592-bb38-041d959dc604",
   "metadata": {
    "editable": true,
    "slideshow": {
     "slide_type": ""
    },
    "tags": []
   },
   "outputs": [],
   "source": [
    "# Alocação de memória\n",
    "\n",
    "idade = 0\n",
    "\n",
    "frase = \"\""
   ]
  },
  {
   "cell_type": "code",
   "execution_count": 114,
   "id": "d2f1e5ad-abc0-4a47-85c7-72faa7f7fda2",
   "metadata": {
    "editable": true,
    "slideshow": {
     "slide_type": ""
    },
    "tags": []
   },
   "outputs": [
    {
     "name": "stdin",
     "output_type": "stream",
     "text": [
      "Qual é a sua idade? 15\n"
     ]
    }
   ],
   "source": [
    "# Entrada de dados\n",
    "\n",
    "idade = int(input(\"Qual é a sua idade?\"))"
   ]
  },
  {
   "cell_type": "code",
   "execution_count": 120,
   "id": "5480d54b-0895-48a0-a44c-8aa6c2b14867",
   "metadata": {
    "editable": true,
    "slideshow": {
     "slide_type": ""
    },
    "tags": []
   },
   "outputs": [],
   "source": [
    "# Processamento de dados\n",
    "if idade < 13:\n",
    "    frase = \"Oi! Você é uma criança.\"\n",
    "elif idade >= 13 and idade < 17:\n",
    "    frase = \"Oi, Você é um adolescente.\"\n",
    "else:\n",
    "    frase = \"Oi! Você é um adulto.\""
   ]
  },
  {
   "cell_type": "code",
   "execution_count": 118,
   "id": "13ae4735-3394-4669-a368-ebccfc108a7d",
   "metadata": {
    "editable": true,
    "slideshow": {
     "slide_type": ""
    },
    "tags": []
   },
   "outputs": [
    {
     "name": "stdout",
     "output_type": "stream",
     "text": [
      "Oi, Você é um adolescente.\n"
     ]
    }
   ],
   "source": [
    "# Saída de dados\n",
    "\n",
    "print(frase)"
   ]
  }
 ],
 "metadata": {
  "kernelspec": {
   "display_name": "Python [conda env:base] *",
   "language": "python",
   "name": "conda-base-py"
  },
  "language_info": {
   "codemirror_mode": {
    "name": "ipython",
    "version": 3
   },
   "file_extension": ".py",
   "mimetype": "text/x-python",
   "name": "python",
   "nbconvert_exporter": "python",
   "pygments_lexer": "ipython3",
   "version": "3.12.7"
  }
 },
 "nbformat": 4,
 "nbformat_minor": 5
}
